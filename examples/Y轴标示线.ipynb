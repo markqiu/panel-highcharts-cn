{
 "cells": [
  {
   "cell_type": "code",
   "execution_count": null,
   "metadata": {},
   "outputs": [],
   "source": [
    "import panel_highcharts as ph\n",
    "\n",
    "ph.config.theme(\"auto\")"
   ]
  },
  {
   "cell_type": "code",
   "execution_count": null,
   "metadata": {},
   "outputs": [],
   "source": [
    "import panel as pn\n",
    "pn.extension('highstock')"
   ]
  },
  {
   "cell_type": "code",
   "execution_count": null,
   "metadata": {},
   "outputs": [],
   "source": [
    "import urllib, requests\n",
    "import pandas as pd\n",
    "\n",
    "system_proxies = urllib.request.getproxies()\n",
    "if system_proxies and 'http' in system_proxies:\n",
    "\tdata = requests.get('https://data.jianshukeji.com/json/usdeur.json', proxies={\"https\": system_proxies['http']})\n",
    "else:\n",
    "\tdata = requests.get('https://data.jianshukeji.com/json/usdeur.json')\n",
    "\n",
    "data.json()\n",
    "\n",
    "df = pd.DataFrame.from_records(data.json(), columns=['dt','rate'])\n",
    "maxRate = df['rate'].max()\n",
    "minRate = df['rate'].min()"
   ]
  },
  {
   "cell_type": "code",
   "execution_count": null,
   "metadata": {},
   "outputs": [],
   "source": [
    "import datetime as dt\n",
    "\n",
    "configuration = {\n",
    "\t\t\"rangeSelector\": {\n",
    "\t\t\t\"selected\": 6\n",
    "\t\t},\n",
    "\t\t\"title\": {\n",
    "\t\t\t\"text\": 'USD to EUR exchange rate'\n",
    "\t\t},\n",
    "\t\t\"tooltip\": {\n",
    "\t\t\t\"style\": {\n",
    "\t\t\t\t\"width\": '200px'\n",
    "\t\t\t},\n",
    "\t\t\t\"valueDecimals\": 4,\n",
    "\t\t\t\"shared\": True,\n",
    "\t\t\t\"split\": False\n",
    "\t\t},\n",
    "\t\t\"yAxis\": {\n",
    "\t\t\t\"title\": {\n",
    "\t\t\t\t\"text\": 'Exchange rate'\n",
    "\t\t\t},\n",
    "\t\t\t\"plotLines\": [{\n",
    "\t\t\t\t\"value\": minRate,\n",
    "\t\t\t\t\"color\": 'green',\n",
    "\t\t\t\t\"dashStyle\": 'shortdash',\n",
    "\t\t\t\t\"width\": 2,\n",
    "\t\t\t\t\"label\": {\n",
    "\t\t\t\t\t\"text\": '最小值'\n",
    "\t\t\t\t}\n",
    "\t\t\t}, {\n",
    "\t\t\t\t\"value\": maxRate,\n",
    "\t\t\t\t\"color\": 'red',\n",
    "\t\t\t\t\"dashStyle\": 'shortdash',\n",
    "\t\t\t\t\"width\": 2,\n",
    "\t\t\t\t\"label\": {\n",
    "\t\t\t\t\t\"text\": '最大值'\n",
    "\t\t\t\t}\n",
    "\t\t\t}]\n",
    "\t\t},\n",
    "\t\t\"series\": [{\n",
    "\t\t\t\"name\": 'USD to EUR',\n",
    "\t\t\t\"data\": data.json(),\n",
    "\t\t\t\"id\": 'dataseries'\n",
    "\t\t}, {\n",
    "\t\t\t\"type\": 'flags',\n",
    "\t\t\t\"data\": [{\n",
    "\t\t\t\t\"x\": dt.datetime(2015, 5, 8).timestamp() * 1000,\n",
    "\t\t\t\t\"title\": 'C',\n",
    "\t\t\t\t\"text\": 'Stocks fall on Greece, rate concerns; US dollar dips'\n",
    "\t\t\t}, {\n",
    "\t\t\t\t\"x\": dt.datetime(2015, 5, 12).timestamp()* 1000,\n",
    "\t\t\t\t\"title\": 'D',\n",
    "\t\t\t\t\"text\": 'Zimbabwe ditches \\'worthless\\' currency for the US dollar '\n",
    "\t\t\t}, {\n",
    "\t\t\t\t\"x\": dt.datetime(2015, 5, 19).timestamp()* 1000,\n",
    "\t\t\t\t\"title\": 'E',\n",
    "\t\t\t\t\"text\": 'US Dollar Declines Over the Week on Rate Timeline'\n",
    "\t\t\t}, {\n",
    "\t\t\t\t\"x\": dt.datetime(2015, 5, 26).timestamp()* 1000,\n",
    "\t\t\t\t\"title\": 'F',\n",
    "\t\t\t\t\"text\": 'Greek Negotiations Take Sharp Turn for Worse, US Dollar set to Rally '\n",
    "\t\t\t}, {\n",
    "\t\t\t\t\"x\": dt.datetime(2015, 5, 29).timestamp()* 1000,\n",
    "\t\t\t\t\"title\": 'G',\n",
    "\t\t\t\t\"text\": 'Euro records stunning reversal against dollar'\n",
    "\t\t\t}, {\n",
    "\t\t\t\t\"x\": dt.datetime(2015, 5, 30).timestamp()* 1000,\n",
    "\t\t\t\t\"title\": 'H',\n",
    "\t\t\t\t\"text\": 'Surging US dollar curbs global IT spend'\n",
    "\t\t\t}],\n",
    "\t\t\t\"onSeries\": 'dataseries',\n",
    "\t\t\t\"shape\": 'circlepin',\n",
    "\t\t\t\"width\": 16\n",
    "\t\t}]\n",
    "\t}"
   ]
  },
  {
   "cell_type": "code",
   "execution_count": null,
   "metadata": {},
   "outputs": [],
   "source": [
    "chart = ph.HighStock(object=configuration, sizing_mode=\"stretch_both\", min_height=600)\n",
    "chart"
   ]
  },
  {
   "cell_type": "code",
   "execution_count": null,
   "metadata": {},
   "outputs": [],
   "source": []
  }
 ],
 "metadata": {
  "kernelspec": {
   "display_name": "Python 3",
   "language": "python",
   "name": "python3"
  },
  "language_info": {
   "codemirror_mode": {
    "name": "ipython",
    "version": 2
   },
   "file_extension": ".py",
   "mimetype": "text/x-python",
   "name": "python",
   "nbconvert_exporter": "python",
   "pygments_lexer": "ipython2",
   "version": "2.7.6"
  }
 },
 "nbformat": 4,
 "nbformat_minor": 0
}
