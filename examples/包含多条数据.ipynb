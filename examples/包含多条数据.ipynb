{
 "cells": [
  {
   "cell_type": "code",
   "execution_count": null,
   "metadata": {
    "pycharm": {
     "name": "#%%\n"
    }
   },
   "outputs": [],
   "source": [
    "import panel_highcharts as ph\n",
    "\n",
    "ph.config.theme(\"auto\")"
   ]
  },
  {
   "cell_type": "code",
   "execution_count": null,
   "metadata": {
    "pycharm": {
     "name": "#%%\n"
    }
   },
   "outputs": [],
   "source": [
    "import panel as pn\n",
    "pn.extension('highstock')"
   ]
  },
  {
   "cell_type": "code",
   "execution_count": null,
   "metadata": {
    "pycharm": {
     "name": "#%%\n"
    }
   },
   "outputs": [],
   "source": [
    "import urllib, requests\n",
    "from pyjson5 import decode\n",
    "\n",
    "system_proxies = urllib.request.getproxies()\n",
    "\n",
    "def get_stock_data(name):\n",
    "\turl = f\"https://data.jianshukeji.com/json/{name.lower()}-c.json\"\n",
    "\tif system_proxies and 'http' in system_proxies:\n",
    "\t\tdata = requests.get(url, proxies={\"https\": system_proxies['http']})\n",
    "\telse:\n",
    "\t\tdata = requests.get(url)\n",
    "\treturn decode(data.text)\n",
    "\n",
    "seriesOptions = []\n",
    "seriesCounter = 0\n",
    "names = ['MSFT', 'AAPL', 'GOOG']\n",
    "\n",
    "for name in names:\n",
    "\tseriesOptions.append({\n",
    "\t\"name\": name,\n",
    "\t\"data\": get_stock_data(name)\n",
    "\t})"
   ]
  },
  {
   "cell_type": "code",
   "execution_count": null,
   "metadata": {
    "pycharm": {
     "name": "#%%\n"
    }
   },
   "outputs": [],
   "source": [
    "configuration = {\n",
    "\t\t\"chart\": {\n",
    "\t\t\t\"zoomType\": None,\n",
    "\t\t},\n",
    "\t\t\"rangeSelector\": {\n",
    "\t\t\t\"selected\": 4\n",
    "\t\t},\n",
    "\t\t\"yAxis\": {\n",
    "\t\t\t\"labels\": {\n",
    "\t\t\t\t\"formatter\": \"function () {return (this.value > 0 ? ' + ' : '') + this.value + '%';}\"\n",
    "\t\t\t},\n",
    "\t\t\t\"plotLines\": [{\n",
    "\t\t\t\t\"value\": 0,\n",
    "\t\t\t\t\"width\": 2,\n",
    "\t\t\t\t\"color\": 'silver'\n",
    "\t\t\t}]\n",
    "\t\t},\n",
    "\t\t\"plotOptions\": {\n",
    "\t\t\t\"series\": {\n",
    "\t\t\t\t\"compare\": 'percent',\n",
    "\t\t\t\t\"showInNavigator\": True\n",
    "\t\t\t}\n",
    "\t\t},\n",
    "\t\t\"tooltip\": {\n",
    "\t\t\t\"pointFormat\": '<span style=\"color:{series.color}\">{series.name}</span>: <b>{point.y}</b> ({point.change}%)<br/>',\n",
    "\t\t\t\"valueDecimals\": 2,\n",
    "\t\t\t\"followTouchMove\": False,\n",
    "\t\t\t\"split\": True\n",
    "\t\t},\n",
    "\t\t\"series\": seriesOptions\n",
    "}\n",
    "configuration"
   ]
  },
  {
   "cell_type": "code",
   "execution_count": null,
   "metadata": {
    "pycharm": {
     "name": "#%%\n"
    }
   },
   "outputs": [],
   "source": [
    "chart = ph.HighStock(object=configuration, sizing_mode=\"stretch_both\", min_height=600)\n",
    "chart"
   ]
  },
  {
   "cell_type": "code",
   "execution_count": null,
   "metadata": {
    "pycharm": {
     "name": "#%%\n"
    }
   },
   "outputs": [],
   "source": []
  }
 ],
 "metadata": {
  "kernelspec": {
   "display_name": "Python 3",
   "language": "python",
   "name": "python3"
  },
  "language_info": {
   "codemirror_mode": {
    "name": "ipython",
    "version": 2
   },
   "file_extension": ".py",
   "mimetype": "text/x-python",
   "name": "python",
   "nbconvert_exporter": "python",
   "pygments_lexer": "ipython2",
   "version": "2.7.6"
  }
 },
 "nbformat": 4,
 "nbformat_minor": 0
}
