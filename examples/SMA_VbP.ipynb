{
 "cells": [
  {
   "cell_type": "code",
   "execution_count": null,
   "metadata": {
    "pycharm": {
     "name": "#%%\n"
    }
   },
   "outputs": [],
   "source": [
    "import panel_highcharts as ph\n",
    "\n",
    "ph.config.theme(\"auto\")"
   ]
  },
  {
   "cell_type": "code",
   "execution_count": null,
   "metadata": {
    "pycharm": {
     "name": "#%%\n"
    }
   },
   "outputs": [],
   "source": [
    "import panel as pn\n",
    "\n",
    "# 注意有些文件引用其他文件，所以顺序也很重要\n",
    "ph.config.highstock_js_files(others=[\"jquery-1.8.3\",\"highcharts/modules/drag-panes\",\"highcharts/indicators/indicators\",\"highcharts/indicators/volume-by-price\",])\n",
    "\n",
    "pn.extension('highstock')"
   ]
  },
  {
   "cell_type": "code",
   "execution_count": null,
   "metadata": {
    "pycharm": {
     "name": "#%%\n"
    }
   },
   "outputs": [],
   "source": [
    "import urllib, requests\n",
    "from pyjson5 import decode\n",
    "\n",
    "system_proxies = urllib.request.getproxies()\n",
    "\n",
    "url = \"https://data.jianshukeji.com/json/aapl-ohlcv.json\"\n",
    "if system_proxies and 'http' in system_proxies:\n",
    "\tdata = requests.get(url, proxies={\"https\": system_proxies['http']})\n",
    "else:\n",
    "\tdata = requests.get(url)\n",
    "data = decode(data.text)\n",
    "# split the data set into ohlc and volume\n",
    "ohlc = []\n",
    "volume = []\n",
    "dataLength = len(data)\n",
    "groupingUnits = [\n",
    "\t\t['week', [1]],\n",
    "\t\t['month', [1, 2, 3, 4, 6]]\n",
    "]\n",
    "i = 0\n",
    "for i in range(len(data)):\n",
    "\tohlc.append([\n",
    "\t\tdata[i][0], # the date\n",
    "\t\tdata[i][1], # open\n",
    "\t\tdata[i][2], # high\n",
    "\t\tdata[i][3], # low\n",
    "\t\tdata[i][4] # close\n",
    "\t])\n",
    "\tvolume.append([\n",
    "\t\tdata[i][0],  # the date\n",
    "\t\tdata[i][5]  # the volume\n",
    "\t])\n",
    "ohlc\n",
    "volume"
   ]
  },
  {
   "cell_type": "code",
   "execution_count": null,
   "metadata": {
    "pycharm": {
     "name": "#%%\n"
    }
   },
   "outputs": [],
   "source": [
    "configuration_str = \"\"\"{\n",
    "\t\trangeSelector: {\n",
    "\t\t\tselected: 2\n",
    "\t\t},\n",
    "\t\ttitle: {\n",
    "\t\t\ttext: 'AAPL Historical'\n",
    "\t\t},\n",
    "\t\tsubtitle: {\n",
    "\t\t\ttext: 'With SMA and Volume by Price technical indicators'\n",
    "\t\t},\n",
    "\t\tyAxis: [{\n",
    "\t\t\tstartOnTick: false,\n",
    "\t\t\tendOnTick: false,\n",
    "\t\t\tlabels: {\n",
    "\t\t\t\talign: 'right',\n",
    "\t\t\t\tx: -3\n",
    "\t\t\t},\n",
    "\t\t\ttitle: {\n",
    "\t\t\t\ttext: 'OHLC'\n",
    "\t\t\t},\n",
    "\t\t\theight: '60%',\n",
    "\t\t\tlineWidth: 2,\n",
    "\t\t\tresize: {\n",
    "\t\t\t\tenabled: true\n",
    "\t\t\t}\n",
    "\t\t}, {\n",
    "\t\t\tlabels: {\n",
    "\t\t\t\talign: 'right',\n",
    "\t\t\t\tx: -3\n",
    "\t\t\t},\n",
    "\t\t\ttitle: {\n",
    "\t\t\t\ttext: 'Volume'\n",
    "\t\t\t},\n",
    "\t\t\ttop: '65%',\n",
    "\t\t\theight: '35%',\n",
    "\t\t\toffset: 0,\n",
    "\t\t\tlineWidth: 2\n",
    "\t\t}],\n",
    "\t\ttooltip: {\n",
    "\t\t\tsplit: true\n",
    "\t\t},\n",
    "\t\tplotOptions: {\n",
    "\t\t\tseries: {\n",
    "\t\t\t\tdataGrouping: {\n",
    "\t\t\t\t\tunits: \"groupingUnits\"\n",
    "\t\t\t\t}\n",
    "\t\t\t}\n",
    "\t\t},\n",
    "\t\tseries: [{\n",
    "\t\t\ttype: 'candlestick',\n",
    "\t\t\tname: 'AAPL',\n",
    "\t\t\tid: 'aapl',\n",
    "\t\t\tzIndex: 2,\n",
    "\t\t\tdata: \"ohlc\"\n",
    "\t\t}, {\n",
    "\t\t\ttype: 'column',\n",
    "\t\t\tname: 'Volume',\n",
    "\t\t\tid: 'volume',\n",
    "\t\t\tdata: \"volume\",\n",
    "\t\t\tyAxis: 1\n",
    "\t\t}, {\n",
    "\t\t\ttype: 'vbp',\n",
    "\t\t\tlinkedTo: 'aapl',\n",
    "\t\t\tparams: {\n",
    "\t\t\t\tvolumeSeriesID: 'volume'\n",
    "\t\t\t},\n",
    "\t\t\tdataLabels: {\n",
    "\t\t\t\tenabled: false\n",
    "\t\t\t},\n",
    "\t\t\tzoneLines: {\n",
    "\t\t\t\tenabled: false\n",
    "\t\t\t}\n",
    "\t\t}, {\n",
    "\t\t\ttype: 'sma',\n",
    "\t\t\tlinkedTo: 'aapl',\n",
    "\t\t\tzIndex: 1,\n",
    "\t\t\tmarker: {\n",
    "\t\t\t\tenabled: false\n",
    "\t\t\t}\n",
    "\t\t}]\n",
    "\t}\"\"\"\n",
    "configuration = decode(configuration_str)\n",
    "configuration[\"plotOptions\"][\"series\"][\"dataGrouping\"][\"units\"] = groupingUnits\n",
    "configuration[\"series\"][0][\"data\"] = ohlc\n",
    "configuration[\"series\"][1][\"data\"] = volume\n",
    "\n",
    "configuration"
   ]
  },
  {
   "cell_type": "code",
   "execution_count": null,
   "metadata": {
    "pycharm": {
     "name": "#%%\n"
    }
   },
   "outputs": [],
   "source": [
    "chart = ph.HighStock(object=configuration, sizing_mode=\"stretch_both\", min_height=600)\n",
    "chart.servable()"
   ]
  },
  {
   "cell_type": "code",
   "execution_count": null,
   "metadata": {
    "pycharm": {
     "name": "#%%\n"
    }
   },
   "outputs": [],
   "source": []
  }
 ],
 "metadata": {
  "kernelspec": {
   "display_name": "Python 3",
   "language": "python",
   "name": "python3"
  },
  "language_info": {
   "codemirror_mode": {
    "name": "ipython",
    "version": 2
   },
   "file_extension": ".py",
   "mimetype": "text/x-python",
   "name": "python",
   "nbconvert_exporter": "python",
   "pygments_lexer": "ipython2",
   "version": "2.7.6"
  }
 },
 "nbformat": 4,
 "nbformat_minor": 0
}
