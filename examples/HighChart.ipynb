{
 "cells": [
  {
   "cell_type": "markdown",
   "id": "informal-commonwealth",
   "metadata": {
    "pycharm": {
     "name": "#%% md\n"
    }
   },
   "source": [
    "![Panel HighCharts Logo](https://raw.githubusercontent.com/MarcSkovMadsen/panel-highcharts/main/assets/images/panel-highcharts-logo.png)\n",
    "\n",
    "# 📈 Panel HighChart Reference Guide\n",
    "\n",
    "The [Panel](https://panel.holoviz.org) `HighChart` pane allows you to use the powerful [HighCharts](https://www.highcharts.com/) [Chart](https://www.highcharts.com/blog/products/highcharts/) from within the comfort of Python 🐍 and Panel ❤️.\n",
    "\n",
    "## License\n",
    "\n",
    "The `panel-highcharts` python package and repository is open source and free to use (MIT License), however the **Highcharts js library requires a license for commercial use**. For more info see the Highcharts license [FAQs](https://shop.highsoft.com/faq).\n",
    "\n",
    "## Parameters:\n",
    "\n",
    "For layout and styling related parameters see the [Panel Customization Guide](https://panel.holoviz.org/user_guide/Customization.html).\n",
    "\n",
    "* **``object``** (dict): The initial user `configuration` of the `chart`.\n",
    "* **``object_update``** (dict) Incremental update to the existing `configuration` of the `chart`.\n",
    "* **``event``** (dict): Events like `click` and `mouseOver` if subscribed to using the `@` terminology.\n",
    "\n",
    "## Methods\n",
    "\n",
    "* **``add_series``**: The method adds a new series to the chart. Takes the `options`, `redraw` and `animation` arguments.\n",
    "\n",
    "___"
   ]
  },
  {
   "cell_type": "markdown",
   "id": "confused-disposal",
   "metadata": {
    "pycharm": {
     "name": "#%% md\n"
    }
   },
   "source": [
    "# Usage\n",
    "\n",
    "## Imports\n",
    "\n",
    "You must import something from panel_highcharts before you run `pn.extension('highchart')`"
   ]
  },
  {
   "cell_type": "code",
   "execution_count": null,
   "id": "similar-burden",
   "metadata": {
    "pycharm": {
     "name": "#%%\n"
    }
   },
   "outputs": [],
   "source": [
    "import panel_highcharts as ph\n",
    "\n",
    "ph.config.theme(\"auto\")"
   ]
  },
  {
   "cell_type": "markdown",
   "id": "rough-reproduction",
   "metadata": {
    "pycharm": {
     "name": "#%% md\n"
    }
   },
   "source": [
    "Additionally you can specify extra Highcharts `js_files` to include. See the full list at [https://code.highcharts.com](https://code.highcharts.com)"
   ]
  },
  {
   "cell_type": "code",
   "execution_count": null,
   "id": "natural-surname",
   "metadata": {
    "pycharm": {
     "name": "#%%\n"
    }
   },
   "outputs": [],
   "source": [
    "# ph.config.js_files(highcharts_exporting=False, highcharts_export_data=False, highcharts_networkgraph=True, ...)"
   ]
  },
  {
   "cell_type": "code",
   "execution_count": null,
   "id": "detected-clark",
   "metadata": {
    "pycharm": {
     "name": "#%%\n"
    }
   },
   "outputs": [],
   "source": [
    "import panel as pn\n",
    "pn.extension('highchart')"
   ]
  },
  {
   "cell_type": "markdown",
   "id": "indirect-corps",
   "metadata": {
    "pycharm": {
     "name": "#%% md\n"
    }
   },
   "source": [
    "## Configuration\n",
    "\n",
    "The `HighChart` pane is configured by providing a simple `dict` to the `object` parameter. For examples see the HighCharts [demos](https://www.highcharts.com/demo)."
   ]
  },
  {
   "cell_type": "code",
   "execution_count": null,
   "id": "genetic-desire",
   "metadata": {
    "tags": [],
    "pycharm": {
     "name": "#%%\n"
    }
   },
   "outputs": [],
   "source": [
    "configuration = {\n",
    "    \"title\": {\"text\": \"HighChart Pane\"},\n",
    "    \"series\": [\n",
    "        {\n",
    "            \"name\": \"序列1\",\n",
    "            \"data\": [1, 2, 3, 4, 5],\n",
    "        }\n",
    "    ]\n",
    "}"
   ]
  },
  {
   "cell_type": "code",
   "execution_count": null,
   "id": "personalized-interview",
   "metadata": {
    "pycharm": {
     "name": "#%%\n"
    }
   },
   "outputs": [],
   "source": [
    "chart = ph.HighChart(object=configuration, sizing_mode=\"stretch_both\", min_height=500)\n",
    "chart"
   ]
  },
  {
   "cell_type": "markdown",
   "id": "greek-editing",
   "metadata": {
    "pycharm": {
     "name": "#%% md\n"
    }
   },
   "source": [
    "## Layout"
   ]
  },
  {
   "cell_type": "code",
   "execution_count": null,
   "id": "thorough-toilet",
   "metadata": {
    "pycharm": {
     "name": "#%%\n"
    }
   },
   "outputs": [],
   "source": [
    "settings = pn.WidgetBox(\n",
    "    pn.Param(\n",
    "        chart,\n",
    "        parameters=[\"height\", \"width\", \"sizing_mode\", \"margin\", \"object\", \"object_update\", \"event\", ],\n",
    "                widgets={\"object\": pn.widgets.LiteralInput, \"object_update\": pn.widgets.LiteralInput, \"event\": pn.widgets.StaticText},\n",
    "        sizing_mode=\"fixed\", show_name=False, width=250, height=400,\n",
    "    )\n",
    ")\n",
    "pn.Row(settings, chart, sizing_mode=\"stretch_both\")"
   ]
  },
  {
   "cell_type": "markdown",
   "id": "valid-czech",
   "metadata": {
    "pycharm": {
     "name": "#%% md\n"
    }
   },
   "source": [
    "Try changing the `sizing_mode` to `fixed` and the `width` to `400`."
   ]
  },
  {
   "cell_type": "markdown",
   "id": "wicked-lesbian",
   "metadata": {
    "pycharm": {
     "name": "#%% md\n"
    }
   },
   "source": [
    "## Updates\n",
    "\n",
    "You can *update* the chart by providing a partial `configuration` to the `object_update` parameter."
   ]
  },
  {
   "cell_type": "code",
   "execution_count": null,
   "id": "naked-madrid",
   "metadata": {
    "tags": [],
    "pycharm": {
     "name": "#%%\n"
    }
   },
   "outputs": [],
   "source": [
    "object_update = {\n",
    "    \"title\": {\"text\": \"Panel HighChart Pane\"},\n",
    "    \"series\": [\n",
    "        {\n",
    "            \"name\": \"序列1\",\n",
    "            \"data\": [2, 2, 3, 4, 5],\n",
    "        }\n",
    "    ]}\n",
    "chart.object_update=object_update"
   ]
  },
  {
   "cell_type": "markdown",
   "id": "unauthorized-preference",
   "metadata": {
    "pycharm": {
     "name": "#%% md\n"
    }
   },
   "source": [
    "Verify that the `title` and `series` was updated in the chart above."
   ]
  },
  {
   "cell_type": "markdown",
   "id": "finished-demonstration",
   "metadata": {
    "pycharm": {
     "name": "#%% md\n"
    }
   },
   "source": [
    "## Add Series"
   ]
  },
  {
   "cell_type": "code",
   "execution_count": null,
   "id": "existing-interval",
   "metadata": {
    "pycharm": {
     "name": "#%%\n"
    }
   },
   "outputs": [],
   "source": [
    "series = {\n",
    "            \"name\": \"序列2\",\n",
    "            \"data\": [6, 5, 5, 5, 4],\n",
    "        }\n",
    "chart.add_series(options=series, redraw=True, animation=True)"
   ]
  },
  {
   "cell_type": "markdown",
   "id": "corresponding-prize",
   "metadata": {
    "pycharm": {
     "name": "#%% md\n"
    }
   },
   "source": [
    "Verify that the `series2` has been added to the chart above."
   ]
  },
  {
   "cell_type": "markdown",
   "id": "center-client",
   "metadata": {
    "pycharm": {
     "name": "#%% md\n"
    }
   },
   "source": [
    "\n"
   ]
  },
  {
   "cell_type": "code",
   "execution_count": null,
   "id": "alpine-detective",
   "metadata": {
    "pycharm": {
     "name": "#%%\n"
    }
   },
   "outputs": [],
   "source": [
    "event_update = {\n",
    "    \"series\": [\n",
    "        {\n",
    "            \"allowPointSelect\": \"true\",\n",
    "            \"point\": {\n",
    "                \"events\": {\n",
    "                    \"click\": \"@click;}\",\n",
    "                    \"mouseOver\": \"@mouseOverFun\",\n",
    "                    \"select\": \"@select\",\n",
    "                    \"unselect\": \"@unselect\",\n",
    "                }\n",
    "            },\n",
    "            \"events\": {\n",
    "                \"mouseOut\": \"@mouseOutFun\",\n",
    "            }\n",
    "        }\n",
    "    ]\n",
    "}\n",
    "chart.object_update=event_update"
   ]
  },
  {
   "cell_type": "markdown",
   "id": "sorted-restaurant",
   "metadata": {
    "pycharm": {
     "name": "#%% md\n"
    }
   },
   "source": [
    "Verify that you can trigger the `click`, `mouseOver`, `select`, `unselect` and `mouseOut` events in the chart above and that the relevant `channel` value is used."
   ]
  },
  {
   "cell_type": "markdown",
   "id": "flush-candle",
   "metadata": {
    "pycharm": {
     "name": "#%% md\n"
    }
   },
   "source": [
    "## Javascript\n",
    "\n",
    "You can use Javascript in the configuration via the `function() {...}` notation."
   ]
  },
  {
   "cell_type": "code",
   "execution_count": null,
   "id": "french-style",
   "metadata": {
    "pycharm": {
     "name": "#%%\n"
    }
   },
   "outputs": [],
   "source": [
    "js_update = {\n",
    "    'xAxis': {\n",
    "            'title': {\n",
    "                'enabled': True,\n",
    "                'text': '距离'\n",
    "            },\n",
    "            'labels': {\n",
    "                'formatter': \"\"\"function(){return this.value + \"km\";}\"\"\"\n",
    "            },\n",
    "        },\n",
    "}\n",
    "chart.object_update=js_update"
   ]
  },
  {
   "cell_type": "markdown",
   "id": "planned-arnold",
   "metadata": {
    "pycharm": {
     "name": "#%% md\n"
    }
   },
   "source": [
    "Verify that the x-axis labels now has `km` units appended in the chart above."
   ]
  },
  {
   "cell_type": "markdown",
   "id": "spatial-proof",
   "metadata": {
    "pycharm": {
     "name": "#%% md\n"
    }
   },
   "source": [
    "# App\n",
    "\n",
    "Finally we can wrap it up into a nice app template."
   ]
  },
  {
   "cell_type": "code",
   "execution_count": null,
   "id": "respiratory-entity",
   "metadata": {
    "pycharm": {
     "name": "#%%\n"
    }
   },
   "outputs": [],
   "source": [
    "chart.object = {\n",
    "    \"title\": {\"text\": \"Panel HighChart Pane\"},\n",
    "    \"series\": [\n",
    "        {\n",
    "            \"name\": \"序列1\",\n",
    "            \"data\": [1, 2, 3, 4, 5],\n",
    "            \"allowPointSelect\": \"true\",\n",
    "            \"point\": {\n",
    "                \"events\": {\n",
    "                    \"click\": \"@click;}\",\n",
    "                    \"mouseOver\": \"@mouseOverFun\",\n",
    "                    \"select\": \"@select\",\n",
    "                    \"unselect\": \"@unselect\",\n",
    "                }\n",
    "            },\n",
    "            \"events\": {\n",
    "                \"mouseOut\": \"@mouseOutFun\",\n",
    "            }\n",
    "        }\n",
    "    ],\n",
    "    'xAxis': {\n",
    "        'title': {\n",
    "            'enabled': True,\n",
    "            'text': '距离'\n",
    "        },\n",
    "        'labels': {\n",
    "            'formatter': \"\"\"function(){return this.value + \"km\";}\"\"\"\n",
    "        },\n",
    "    },\n",
    "}"
   ]
  },
  {
   "cell_type": "code",
   "execution_count": null,
   "id": "composite-alias",
   "metadata": {
    "pycharm": {
     "name": "#%%\n"
    }
   },
   "outputs": [],
   "source": [
    "app = pn.template.FastListTemplate(\n",
    "    site=\"Panel Highcharts CN\", site_url=\"./\",\n",
    "    title=\"HighChart图表样例\",\n",
    "    sidebar=[settings],\n",
    "    main=[chart]\n",
    ").servable()"
   ]
  },
  {
   "cell_type": "markdown",
   "id": "operational-kruger",
   "metadata": {
    "pycharm": {
     "name": "#%% md\n"
    }
   },
   "source": [
    "You can serve with `panel serve HighChart.ipynb` and explore the app at http://localhost:5006/HighChart.\n",
    "\n",
    "Add the `--autoreload` flag to get *hot reloading* when you save the notebook.\n",
    "\n",
    "![HighChart Reference Guide](https://raw.githubusercontent.com/MarcSkovMadsen/panel-highcharts/main/assets/images/HighChartApp.gif)\n"
   ]
  }
 ],
 "metadata": {
  "kernelspec": {
   "display_name": "Python 3",
   "language": "python",
   "name": "python3"
  },
  "language_info": {
   "codemirror_mode": {
    "name": "ipython",
    "version": 3
   },
   "file_extension": ".py",
   "mimetype": "text/x-python",
   "name": "python",
   "nbconvert_exporter": "python",
   "pygments_lexer": "ipython3",
   "version": "3.8.4"
  },
  "toc-autonumbering": true,
  "toc-showcode": true,
  "toc-showmarkdowntxt": true,
  "toc-showtags": false
 },
 "nbformat": 4,
 "nbformat_minor": 5
}