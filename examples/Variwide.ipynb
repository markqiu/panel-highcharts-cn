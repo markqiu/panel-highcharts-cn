{
 "cells": [
  {
   "cell_type": "markdown",
   "id": "indirect-nitrogen",
   "metadata": {},
   "source": [
    "![Panel HighCharts Logo](https://raw.githubusercontent.com/MarcSkovMadsen/panel-highcharts/main/assets/images/panel-highcharts-logo.png)\n",
    "# Panel-HighCharts - Variwide Example\n",
    "\n",
    "This example illustrates the `Variwide` chart requested in https://github.com/MarcSkovMadsen/panel-highcharts/issues/4"
   ]
  },
  {
   "cell_type": "code",
   "execution_count": null,
   "id": "precise-albania",
   "metadata": {},
   "outputs": [],
   "source": [
    "import panel_highcharts as ph\n",
    "\n",
    "ph.config.theme(\"auto\")"
   ]
  },
  {
   "cell_type": "markdown",
   "id": "pleasant-breath",
   "metadata": {},
   "source": [
    "## Importing Additional Highchart dependencies\n",
    "\n",
    "You can import additional HighCharts `js` files using `panel_highcharts.config.js_files`."
   ]
  },
  {
   "cell_type": "code",
   "execution_count": null,
   "id": "handmade-brand",
   "metadata": {},
   "outputs": [],
   "source": [
    "ph.config.js_files(highcharts_variwide=True)"
   ]
  },
  {
   "cell_type": "markdown",
   "id": "remarkable-stream",
   "metadata": {},
   "source": [
    "Please note you need to `config` the `js_files` before you run `panel` and `pn.extension`"
   ]
  },
  {
   "cell_type": "code",
   "execution_count": null,
   "id": "minute-dispute",
   "metadata": {},
   "outputs": [],
   "source": [
    "import panel as pn\n",
    "pn.extension('highchart')"
   ]
  },
  {
   "cell_type": "markdown",
   "id": "casual-publication",
   "metadata": {},
   "source": [
    "## Defining the HighCharts Configuration\n",
    "\n",
    "The configuration is from https://jsfiddle.net/gh/get/library/pure/highcharts/highcharts/tree/master/samples/highcharts/demo/variwide/"
   ]
  },
  {
   "cell_type": "code",
   "execution_count": null,
   "id": "civil-passion",
   "metadata": {},
   "outputs": [],
   "source": [
    "configuration =  {\n",
    "    'chart': {\n",
    "        'type': 'variwide'\n",
    "    },\n",
    "\n",
    "    'title': {\n",
    "        'text': '欧洲劳动力成本, 2016'\n",
    "    },\n",
    "\n",
    "    'subtitle': {\n",
    "        'text': '来源: <a href=\"http://ec.europa.eu/eurostat/web/' +\n",
    "            'labour-market/labour-costs/main-tables\">eurostat</a>'\n",
    "    },\n",
    "\n",
    "    'xAxis': {\n",
    "        'type': 'category'\n",
    "    },\n",
    "\n",
    "    'caption': {\n",
    "        'text': '列宽与 GDP 成正比'\n",
    "    },\n",
    "\n",
    "    'legend': {\n",
    "        'enabled': False\n",
    "    },\n",
    "\n",
    "    'series': [{\n",
    "        'name': 'Labor Costs',\n",
    "        'data': [\n",
    "            ['Norway', 50.2, 335504],\n",
    "            ['Denmark', 42, 277339],\n",
    "            ['Belgium', 39.2, 421611],\n",
    "            ['Sweden', 38, 462057],\n",
    "            ['France', 35.6, 2228857],\n",
    "            ['Netherlands', 34.3, 702641],\n",
    "            ['Finland', 33.2, 215615],\n",
    "            ['Germany', 33.0, 3144050],\n",
    "            ['Austria', 32.7, 349344],\n",
    "            ['Ireland', 30.4, 275567],\n",
    "            ['Italy', 27.8, 1672438],\n",
    "            ['United Kingdom', 26.7, 2366911],\n",
    "            ['Spain', 21.3, 1113851],\n",
    "            ['Greece', 14.2, 175887],\n",
    "            ['Portugal', 13.7, 184933],\n",
    "            ['Czech Republic', 10.2, 176564],\n",
    "            ['Poland', 8.6, 424269],\n",
    "            ['Romania', 5.5, 169578]\n",
    "\n",
    "        ],\n",
    "        'dataLabels': {\n",
    "            'enabled': True,\n",
    "            'format': '€{point.y:.0f}'\n",
    "        },\n",
    "        'tooltip': {\n",
    "            'pointFormat': 'Labor Costs: <b>€ {point.y}/h</b><br>' +\n",
    "                'GDP: <b>€ {point.z} million</b><br>'\n",
    "        },\n",
    "        'colorByPoint': True\n",
    "    }]\n",
    "\n",
    "}"
   ]
  },
  {
   "cell_type": "markdown",
   "id": "dominican-grass",
   "metadata": {},
   "source": [
    "## Create the HighChart"
   ]
  },
  {
   "cell_type": "code",
   "execution_count": null,
   "id": "northern-skiing",
   "metadata": {},
   "outputs": [],
   "source": [
    "chart = ph.HighChart(object=configuration, sizing_mode=\"stretch_both\")\n",
    "chart"
   ]
  },
  {
   "cell_type": "markdown",
   "id": "supported-ghost",
   "metadata": {},
   "source": [
    "## Wrap it up in a nice template"
   ]
  },
  {
   "cell_type": "code",
   "execution_count": null,
   "id": "suffering-somalia",
   "metadata": {},
   "outputs": [],
   "source": [
    "template = pn.template.FastListTemplate(\n",
    "    site=\"Panel-HighCharts\", site_url=\"./\",\n",
    "    title=\"Variwide Chart\",\n",
    "    header_background=\"#f15c80\",\n",
    "    accent_base_color=\"#f15c80\",\n",
    "    main=[chart]\n",
    ").servable();"
   ]
  },
  {
   "cell_type": "markdown",
   "id": "million-trading",
   "metadata": {},
   "source": [
    "Serve the app with `panel serve Variwide.ipynb` and explore it at http://localhost:5006/Variwide.\n",
    "\n",
    "Add the `--autoreload` flag to get *hot reloading* when you save the notebook.\n",
    "\n",
    "![Variwide](https://raw.githubusercontent.com/MarcSkovMadsen/panel-highcharts/main/assets/images/Variwide.gif)\n"
   ]
  }
 ],
 "metadata": {
  "kernelspec": {
   "display_name": "Python 3",
   "language": "python",
   "name": "python3"
  },
  "language_info": {
   "codemirror_mode": {
    "name": "ipython",
    "version": 3
   },
   "file_extension": ".py",
   "mimetype": "text/x-python",
   "name": "python",
   "nbconvert_exporter": "python",
   "pygments_lexer": "ipython3",
   "version": "3.8.4"
  }
 },
 "nbformat": 4,
 "nbformat_minor": 5
}
