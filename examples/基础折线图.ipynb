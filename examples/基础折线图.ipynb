{
 "cells": [
  {
   "cell_type": "code",
   "execution_count": null,
   "metadata": {
    "pycharm": {
     "name": "#%%\n"
    }
   },
   "outputs": [],
   "source": [
    "import panel_highcharts as ph\n",
    "\n",
    "ph.config.theme(\"auto\")"
   ]
  },
  {
   "cell_type": "code",
   "execution_count": null,
   "metadata": {
    "pycharm": {
     "name": "#%%\n"
    }
   },
   "outputs": [],
   "source": [
    "import panel as pn\n",
    "pn.extension('highstock')"
   ]
  },
  {
   "cell_type": "code",
   "execution_count": null,
   "metadata": {
    "pycharm": {
     "name": "#%%\n"
    }
   },
   "outputs": [],
   "source": [
    "import urllib, requests\n",
    "system_proxies = urllib.request.getproxies()\n",
    "\n",
    "\n",
    "if system_proxies and 'http' in system_proxies:\n",
    "    data = requests.get('https://data.jianshukeji.com/stock/history/000001', proxies={\"https\": system_proxies['http']})\n",
    "else:\n",
    "    data = requests.get('https://data.jianshukeji.com/stock/history/000001')\n",
    "\n",
    "data.json()['data']"
   ]
  },
  {
   "cell_type": "code",
   "execution_count": null,
   "metadata": {
    "pycharm": {
     "name": "#%%\n"
    }
   },
   "outputs": [],
   "source": [
    "configuration = {\n",
    "    \"title\": {\"text\": \"平安银行历史股价\"},\n",
    "    \"rangeSelector\": {\n",
    "        \"buttons\": [\n",
    "            {\"type\": \"year\", \"count\": 1, \"text\": \"1周\"},\n",
    "            {\"type\": \"month\", \"count\": 1, \"text\": \"1月\"},\n",
    "            {\"type\": \"week\", \"count\": 1, \"text\": \"1年\"},\n",
    "            {\"type\": \"all\", \"count\": 1, \"text\": \"全部\"},\n",
    "        ],\n",
    "        \"selected\": 1,\n",
    "        \"inputEnabled\": False,\n",
    "    },\n",
    "    \"plotOptions\": {\n",
    "            \"series\": {\n",
    "                \"showInLegend\": True\n",
    "            }\n",
    "        },\n",
    "    \"series\": [\n",
    "        {\"name\": \"平安银行\", \"id\": '000001', \"type\": \"line\", \"data\": data.json()['data'], \"tooltip\": {\"valueDecimals\": 2}}\n",
    "    ],\n",
    "    \"tooltip\": {\n",
    "        \"split\": False,\n",
    "        \"shared\": True\n",
    "    },\n",
    "}\n"
   ]
  },
  {
   "cell_type": "code",
   "execution_count": null,
   "metadata": {
    "pycharm": {
     "name": "#%%\n"
    }
   },
   "outputs": [],
   "source": [
    "chart = ph.HighStock(object=configuration, sizing_mode=\"stretch_both\", min_height=600)\n",
    "chart\n"
   ]
  }
 ],
 "metadata": {
  "kernelspec": {
   "display_name": "Python 3",
   "language": "python",
   "name": "python3"
  },
  "language_info": {
   "codemirror_mode": {
    "name": "ipython",
    "version": 2
   },
   "file_extension": ".py",
   "mimetype": "text/x-python",
   "name": "python",
   "nbconvert_exporter": "python",
   "pygments_lexer": "ipython2",
   "version": "2.7.6"
  }
 },
 "nbformat": 4,
 "nbformat_minor": 0
}
