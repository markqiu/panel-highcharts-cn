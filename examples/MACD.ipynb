{
 "cells": [
  {
   "cell_type": "code",
   "execution_count": null,
   "metadata": {
    "pycharm": {
     "name": "#%%\n"
    }
   },
   "outputs": [],
   "source": [
    "import panel_highcharts as ph\n",
    "\n",
    "ph.config.theme(\"auto\")"
   ]
  },
  {
   "cell_type": "code",
   "execution_count": null,
   "metadata": {
    "pycharm": {
     "name": "#%%\n"
    }
   },
   "outputs": [],
   "source": [
    "import panel as pn\n",
    "ph.config.highstock_js_files(highcharts_more=True, others=[\"highcharts/modules/drag-panes\",\n",
    "            \"highcharts/indicators/indicators\",\n",
    "            \"highcharts/indicators/ema\",\n",
    "            \"highcharts/indicators/macd\",\n",
    "            \"highcharts/indicators/pivot-points\",\n",
    "            \"jquery-1.8.3\",\n",
    "            \"jquery\"])\n",
    "\n",
    "pn.extension('highstock')"
   ]
  },
  {
   "cell_type": "code",
   "execution_count": null,
   "metadata": {
    "pycharm": {
     "name": "#%%\n"
    }
   },
   "outputs": [],
   "source": [
    "import urllib, requests\n",
    "from pyjson5 import decode\n",
    "\n",
    "system_proxies = urllib.request.getproxies()\n",
    "\n",
    "url = \"https://data.jianshukeji.com/json/aapl-ohlc.json\"\n",
    "if system_proxies and 'http' in system_proxies:\n",
    "\tdata = requests.get(url, proxies={\"https\": system_proxies['http']})\n",
    "else:\n",
    "\tdata = requests.get(url)\n",
    "data = decode(data.text)\n",
    "data"
   ]
  },
  {
   "cell_type": "code",
   "execution_count": null,
   "metadata": {
    "pycharm": {
     "name": "#%%\n"
    }
   },
   "outputs": [],
   "source": [
    "configuration_str = \"\"\"{\n",
    "\t\trangeSelector: {\n",
    "\t\t\tselected: 2\n",
    "\t\t},\n",
    "\t\tyAxis: [{\n",
    "\t\t\theight: '75%',\n",
    "\t\t\tresize: {\n",
    "\t\t\t\tenabled: true\n",
    "\t\t\t},\n",
    "\t\t\tlabels: {\n",
    "\t\t\t\talign: 'right',\n",
    "\t\t\t\tx: -3\n",
    "\t\t\t},\n",
    "\t\t\ttitle: {\n",
    "\t\t\t\ttext: 'AAPL'\n",
    "\t\t\t}\n",
    "\t\t}, {\n",
    "\t\t\ttop: '75%',\n",
    "\t\t\theight: '25%',\n",
    "\t\t\tlabels: {\n",
    "\t\t\t\talign: 'right',\n",
    "\t\t\t\tx: -3\n",
    "\t\t\t},\n",
    "\t\t\toffset: 0,\n",
    "\t\t\ttitle: {\n",
    "\t\t\t\ttext: 'MACD'\n",
    "\t\t\t}\n",
    "\t\t}],\n",
    "\t\ttitle: {\n",
    "\t\t\ttext: 'AAPL 股价'\n",
    "\t\t},\n",
    "\t\tsubtitle: {\n",
    "\t\t\ttext: 'With MACD and Pivot Points technical indicators'\n",
    "\t\t},\n",
    "\t\tseries: [{\n",
    "\t\t\ttype: 'ohlc',\n",
    "\t\t\tid: 'aapl',\n",
    "\t\t\tname: 'AAPL Stock Price',\n",
    "\t\t\tdata: 'data',\n",
    "\t\t\tzIndex: 1\n",
    "\t\t}, {\n",
    "\t\t\ttype: 'pivotpoints',\n",
    "\t\t\tlinkedTo: 'aapl',\n",
    "\t\t\tzIndex: 0,\n",
    "\t\t\tlineWidth: 1,\n",
    "\t\t\tdataLabels: {\n",
    "\t\t\t\toverflow: 'none',\n",
    "\t\t\t\tcrop: false,\n",
    "\t\t\t\ty: 4,\n",
    "\t\t\t\tstyle: {\n",
    "\t\t\t\t\tfontSize: 9\n",
    "\t\t\t\t}\n",
    "\t\t\t}\n",
    "\t\t}, {\n",
    "\t\t\ttype: 'macd',\n",
    "\t\t\tyAxis: 1,\n",
    "\t\t\tlinkedTo: 'aapl'\n",
    "\t\t}]\n",
    "\t}\"\"\"\n",
    "configuration = decode(configuration_str)\n",
    "configuration[\"series\"][0][\"data\"] = data\n",
    "configuration"
   ]
  },
  {
   "cell_type": "code",
   "execution_count": null,
   "metadata": {
    "pycharm": {
     "name": "#%%\n"
    }
   },
   "outputs": [],
   "source": [
    "chart = ph.HighStock(object=configuration, sizing_mode=\"stretch_both\", height=600, min_width=310)\n",
    "chart.servable()"
   ]
  },
  {
   "cell_type": "code",
   "execution_count": null,
   "metadata": {
    "pycharm": {
     "name": "#%%\n"
    }
   },
   "outputs": [],
   "source": []
  }
 ],
 "metadata": {
  "kernelspec": {
   "display_name": "Python 3 (ipykernel)",
   "language": "python",
   "name": "python3"
  },
  "language_info": {
   "codemirror_mode": {
    "name": "ipython",
    "version": 3
   },
   "file_extension": ".py",
   "mimetype": "text/x-python",
   "name": "python",
   "nbconvert_exporter": "python",
   "pygments_lexer": "ipython3",
   "version": "3.9.12"
  }
 },
 "nbformat": 4,
 "nbformat_minor": 1
}
