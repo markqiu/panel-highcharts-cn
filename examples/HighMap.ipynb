{
 "cells": [
  {
   "cell_type": "markdown",
   "id": "cardiac-terrorist",
   "metadata": {
    "pycharm": {
     "name": "#%% md\n"
    }
   },
   "source": [
    "![Panel HighCharts Logo](https://raw.githubusercontent.com/MarcSkovMadsen/panel-highcharts/main/assets/images/panel-highcharts-logo.png)\n",
    "\n",
    "# 📈 Panel HighMap Reference Guide\n",
    "\n",
    "The [Panel](https://panel.holoviz.org) `HighMap` pane allows you to use the powerful [HighCharts](https://www.highcharts.com/) [Maps](https://www.highcharts.com/products/maps/) from within the comfort of Python 🐍 and Panel ❤️.\n",
    "\n",
    "## License\n",
    "\n",
    "The `panel-highcharts` python package and repository is open source and free to use (MIT License), however the **Highcharts js library requires a license for commercial use**. For more info see the Highcharts license [FAQs](https://shop.highsoft.com/faq).\n",
    "\n",
    "## Parameters:\n",
    "\n",
    "For layout and styling related parameters see the [Panel Customization Guide](https://panel.holoviz.org/user_guide/Customization.html).\n",
    "\n",
    "* **``object``** (dict): The initial user `configuration` of the `chart`.\n",
    "* **``object_update``** (dict) Incremental update to the existing `configuration` of the `chart`.\n",
    "* **``event``** (dict): Events like `click` and `mouseOver` if subscribed to using the `@` terminology.\n",
    "\n",
    "## Methods\n",
    "\n",
    "* **``add_series``**: The method adds a new series to the chart. Takes the `options`, `redraw` and `animation` arguments.\n",
    "___"
   ]
  },
  {
   "cell_type": "markdown",
   "id": "interior-postcard",
   "metadata": {
    "pycharm": {
     "name": "#%% md\n"
    }
   },
   "source": [
    "# Usage\n",
    "\n",
    "## Imports\n",
    "\n",
    "You must import something from panel_highcharts before you run `pn.extension('highmap')`"
   ]
  },
  {
   "cell_type": "code",
   "execution_count": null,
   "id": "choice-phoenix",
   "metadata": {
    "pycharm": {
     "name": "#%%\n"
    }
   },
   "outputs": [],
   "source": [
    "import panel_highcharts as ph\n",
    "\n",
    "ph.config.theme(\"auto\")"
   ]
  },
  {
   "cell_type": "markdown",
   "id": "comfortable-heater",
   "metadata": {
    "pycharm": {
     "name": "#%% md\n"
    }
   },
   "source": [
    "Additionally you can specify extra Highcharts `js_files` to include. `mapdata` can be supplied as a list. See the full list at [https://code.highcharts.com](https://code.highcharts.com)"
   ]
  },
  {
   "cell_type": "code",
   "execution_count": null,
   "id": "incorrect-cause",
   "metadata": {
    "pycharm": {
     "name": "#%%\n"
    }
   },
   "outputs": [],
   "source": [
    "ph.config.js_files(mapdata=[\"custom/europe\"]) # Imports https://code.highcharts.com/mapdata/custom/europe.js"
   ]
  },
  {
   "cell_type": "code",
   "execution_count": null,
   "id": "broke-minutes",
   "metadata": {
    "pycharm": {
     "name": "#%%\n"
    }
   },
   "outputs": [],
   "source": [
    "import panel as pn\n",
    "pn.extension('highmap')"
   ]
  },
  {
   "cell_type": "markdown",
   "id": "hearing-advertiser",
   "metadata": {
    "pycharm": {
     "name": "#%% md\n"
    }
   },
   "source": [
    "## Configuration\n",
    "\n",
    "The `HighChart` pane is configured by providing a simple `dict` to the `object` parameter. For examples see the HighCharts [demos](https://www.highcharts.com/demo)."
   ]
  },
  {
   "cell_type": "code",
   "execution_count": null,
   "id": "constitutional-castle",
   "metadata": {
    "tags": [],
    "pycharm": {
     "name": "#%%\n"
    }
   },
   "outputs": [],
   "source": [
    "configuration = {\n",
    "    \"chart\": {\"map\": \"custom/europe\", \"borderWidth\": 1},\n",
    "    \"title\": {\"text\": \"北欧国家\"},\n",
    "    \"subtitle\": {\"text\": \"Demo of drawing all areas in the map, only highlighting partial data\"},\n",
    "    \"legend\": {\"enabled\": False},\n",
    "    \"series\": [\n",
    "        {\n",
    "            \"name\": \"Country\",\n",
    "            \"data\": [[\"is\", 1], [\"no\", 1], [\"se\", 1], [\"dk\", 1], [\"fi\", 1]],\n",
    "            \"dataLabels\": {\n",
    "                \"enabled\": True,\n",
    "                \"color\": \"#FFFFFF\",\n",
    "                \"formatter\": \"\"\"function () {\n",
    "                if (this.point.value) {\n",
    "                    return this.point.name;\n",
    "                }\n",
    "            }\"\"\",\n",
    "            },\n",
    "            \"tooltip\": {\"headerFormat\": \"\", \"pointFormat\": \"{point.name}\"},\n",
    "        }\n",
    "    ],\n",
    "}"
   ]
  },
  {
   "cell_type": "code",
   "execution_count": null,
   "id": "varying-shell",
   "metadata": {
    "pycharm": {
     "name": "#%%\n"
    }
   },
   "outputs": [],
   "source": [
    "chart = ph.HighMap(object=configuration, sizing_mode=\"stretch_both\", min_height=600)\n",
    "chart"
   ]
  },
  {
   "cell_type": "markdown",
   "id": "abandoned-lounge",
   "metadata": {
    "pycharm": {
     "name": "#%% md\n"
    }
   },
   "source": [
    "## Layout"
   ]
  },
  {
   "cell_type": "code",
   "execution_count": null,
   "id": "handled-theme",
   "metadata": {
    "pycharm": {
     "name": "#%%\n"
    }
   },
   "outputs": [],
   "source": [
    "settings = pn.WidgetBox(\n",
    "    pn.Param(\n",
    "        chart,\n",
    "        parameters=[\"height\", \"width\", \"sizing_mode\", \"margin\", \"object\", \"object_update\", \"event\", ],\n",
    "                widgets={\"object\": pn.widgets.LiteralInput, \"object_update\": pn.widgets.LiteralInput, \"event\": pn.widgets.StaticText},\n",
    "        sizing_mode=\"fixed\", show_name=False, width=250,\n",
    "    )\n",
    ")\n",
    "pn.Row(settings, chart, sizing_mode=\"stretch_both\")"
   ]
  },
  {
   "cell_type": "markdown",
   "id": "faced-scratch",
   "metadata": {
    "pycharm": {
     "name": "#%% md\n"
    }
   },
   "source": [
    "Try changing the `sizing_mode` to `fixed` and the `width` to `400`."
   ]
  },
  {
   "cell_type": "markdown",
   "id": "graphic-organ",
   "metadata": {
    "pycharm": {
     "name": "#%% md\n"
    }
   },
   "source": [
    "## Updates\n",
    "\n",
    "You can *update* the chart by providing a partial `configuration` to the `object_update` parameter."
   ]
  },
  {
   "cell_type": "code",
   "execution_count": null,
   "id": "attempted-specification",
   "metadata": {
    "tags": [],
    "pycharm": {
     "name": "#%%\n"
    }
   },
   "outputs": [],
   "source": [
    "object_update = {\n",
    "    \"title\": {\"text\": \"Panel HighMap - Nordic countries\"},\n",
    "}\n",
    "chart.object_update=object_update"
   ]
  },
  {
   "cell_type": "markdown",
   "id": "still-ozone",
   "metadata": {
    "pycharm": {
     "name": "#%% md\n"
    }
   },
   "source": [
    "Verify that the `title` and `series` was updated in the chart above."
   ]
  },
  {
   "cell_type": "markdown",
   "id": "developed-remark",
   "metadata": {
    "pycharm": {
     "name": "#%% md\n"
    }
   },
   "source": [
    "## Events\n",
    "\n",
    "You can subscribe to chart events using an the `@` notation as shown below. If you add a string like `@name`, then the key-value pair `'channel': 'name'` will be added to the `event` dictionary."
   ]
  },
  {
   "cell_type": "code",
   "execution_count": null,
   "id": "clear-flower",
   "metadata": {
    "pycharm": {
     "name": "#%%\n"
    }
   },
   "outputs": [],
   "source": [
    "event_update = {\n",
    "    \"series\": [\n",
    "        {\n",
    "            \"allowPointSelect\": \"true\",\n",
    "            \"point\": {\n",
    "                \"events\": {\n",
    "                    \"click\": \"@click;}\",\n",
    "                    \"mouseOver\": \"@mouseOverFun\",\n",
    "                    \"select\": \"@select\",\n",
    "                    \"unselect\": \"@unselect\",\n",
    "                }\n",
    "            },\n",
    "            \"events\": {\n",
    "                \"mouseOut\": \"@mouseOutFun\",\n",
    "            }\n",
    "        }\n",
    "    ]\n",
    "}\n",
    "chart.object_update=event_update"
   ]
  },
  {
   "cell_type": "markdown",
   "id": "human-contact",
   "metadata": {
    "pycharm": {
     "name": "#%% md\n"
    }
   },
   "source": [
    "Verify that you can trigger the `click`, `mouseOver`, `select`, `unselect` and `mouseOut` events in the chart above and that the relevant `channel` value is used."
   ]
  },
  {
   "cell_type": "markdown",
   "id": "cellular-regulation",
   "metadata": {
    "pycharm": {
     "name": "#%% md\n"
    }
   },
   "source": [
    "## Javascript\n",
    "\n",
    "You can use Javascript in the configuration via the `function() {...}` notation."
   ]
  },
  {
   "cell_type": "code",
   "execution_count": null,
   "id": "advised-korean",
   "metadata": {
    "pycharm": {
     "name": "#%%\n"
    }
   },
   "outputs": [],
   "source": [
    "js_update = {\n",
    "    \"series\": [\n",
    "        {\n",
    "            \"dataLabels\": {\n",
    "                \"formatter\": \"\"\"function () {\n",
    "                if (this.point.value) {\n",
    "                    if (this.point.name==\"Denmark\"){\n",
    "                        return \"❤️ \" + this.point.name;\n",
    "                    } else {\n",
    "                        return this.point.name;\n",
    "                    }\n",
    "                }\n",
    "            }\"\"\",\n",
    "            }\n",
    "        }\n",
    "    ],\n",
    "}\n",
    "chart.object_update=js_update"
   ]
  },
  {
   "cell_type": "markdown",
   "id": "marked-brunswick",
   "metadata": {
    "pycharm": {
     "name": "#%% md\n"
    }
   },
   "source": [
    "Verify that the x-axis labels now has `km` units appended in the chart above."
   ]
  },
  {
   "cell_type": "markdown",
   "id": "colored-creek",
   "metadata": {
    "pycharm": {
     "name": "#%% md\n"
    }
   },
   "source": [
    "# App\n",
    "\n",
    "Finally we can wrap it up into a nice app template."
   ]
  },
  {
   "cell_type": "code",
   "execution_count": null,
   "id": "exterior-speaker",
   "metadata": {
    "pycharm": {
     "name": "#%%\n"
    }
   },
   "outputs": [],
   "source": [
    "chart.object =configuration = {\n",
    "    \"chart\": {\"map\": \"custom/europe\", \"borderWidth\": 1},\n",
    "    \"title\": {\"text\": \"Nordic countries\"},\n",
    "    \"subtitle\": {\"text\": \"Demo of drawing all areas in the map, only highlighting partial data\"},\n",
    "    \"legend\": {\"enabled\": False},\n",
    "    \"series\": [\n",
    "        {\n",
    "            \"name\": \"Country\",\n",
    "            \"data\": [[\"is\", 1], [\"no\", 1], [\"se\", 1], [\"dk\", 1], [\"fi\", 1]],\n",
    "            \"dataLabels\": {\n",
    "                \"enabled\": True,\n",
    "                \"color\": \"#FFFFFF\",\n",
    "                \"formatter\": \"\"\"function () {\n",
    "                if (this.point.value) {\n",
    "                    if (this.point.name==\"Denmark\"){\n",
    "                        return \"❤️ \" + this.point.name;\n",
    "                    } else {\n",
    "                        return this.point.name;\n",
    "                    }\n",
    "                }\n",
    "            }\"\"\",\n",
    "            },\n",
    "            \"tooltip\": {\"headerFormat\": \"\", \"pointFormat\": \"{point.name}\"},\n",
    "            \"allowPointSelect\": \"true\",\n",
    "            \"point\": {\n",
    "                \"events\": {\n",
    "                    \"click\": \"@click;}\",\n",
    "                    \"mouseOver\": \"@mouseOverFun\",\n",
    "                    \"select\": \"@select\",\n",
    "                    \"unselect\": \"@unselect\",\n",
    "                }\n",
    "            },\n",
    "            \"events\": {\n",
    "                \"mouseOut\": \"@mouseOutFun\",\n",
    "            }\n",
    "        }\n",
    "    ],\n",
    "}"
   ]
  },
  {
   "cell_type": "code",
   "execution_count": null,
   "id": "sapphire-beast",
   "metadata": {
    "pycharm": {
     "name": "#%%\n"
    }
   },
   "outputs": [],
   "source": [
    "app = pn.template.FastListTemplate(\n",
    "    site=\"Panel Highcharts\", site_url=\"./\",\n",
    "    title=\"HighMap Reference Example\",\n",
    "    sidebar=[settings],\n",
    "    main=[chart]\n",
    ").servable()"
   ]
  },
  {
   "cell_type": "markdown",
   "id": "brown-passage",
   "metadata": {
    "pycharm": {
     "name": "#%% md\n"
    }
   },
   "source": [
    "You can serve with `panel serve HighMap.ipynb` and explore the app at http://localhost:5006/HighMap.\n",
    "\n",
    "Add the `--autoreload` flag to get *hot reloading* when you save the notebook.\n",
    "\n",
    "![HighMap Reference Guide](https://raw.githubusercontent.com/MarcSkovMadsen/panel-highcharts/main/assets/images/HighMapApp.gif)"
   ]
  },
  {
   "cell_type": "code",
   "execution_count": null,
   "id": "western-desert",
   "metadata": {
    "pycharm": {
     "name": "#%%\n"
    }
   },
   "outputs": [],
   "source": []
  }
 ],
 "metadata": {
  "kernelspec": {
   "display_name": "Python 3",
   "language": "python",
   "name": "python3"
  },
  "language_info": {
   "codemirror_mode": {
    "name": "ipython",
    "version": 3
   },
   "file_extension": ".py",
   "mimetype": "text/x-python",
   "name": "python",
   "nbconvert_exporter": "python",
   "pygments_lexer": "ipython3",
   "version": "3.8.4"
  },
  "toc-autonumbering": true,
  "toc-showcode": true,
  "toc-showmarkdowntxt": true,
  "toc-showtags": false
 },
 "nbformat": 4,
 "nbformat_minor": 5
}