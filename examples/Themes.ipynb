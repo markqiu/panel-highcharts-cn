{
 "cells": [
  {
   "cell_type": "markdown",
   "id": "offensive-sculpture",
   "metadata": {},
   "source": [
    "# Panel-HighCharts - Themes\n",
    "\n",
    "With `panel_highcharts.config.theme` you can configure the global theme."
   ]
  },
  {
   "cell_type": "code",
   "execution_count": null,
   "id": "angry-pavilion",
   "metadata": {},
   "outputs": [],
   "source": [
    "import panel as pn\n",
    "import panel_highcharts as ph"
   ]
  },
  {
   "cell_type": "code",
   "execution_count": null,
   "id": "virgin-racing",
   "metadata": {},
   "outputs": [],
   "source": [
    "ph.config.theme(name=\"dark-unica\") # You need to set the theme before executing pn.extension"
   ]
  },
  {
   "cell_type": "code",
   "execution_count": null,
   "id": "tracked-numbers",
   "metadata": {},
   "outputs": [],
   "source": [
    "pn.extension(\"highchart\", template=\"fast\", sizing_mode=\"stretch_width\")"
   ]
  },
  {
   "cell_type": "code",
   "execution_count": null,
   "id": "cleared-separate",
   "metadata": {},
   "outputs": [],
   "source": [
    "def get_configuration(title):\n",
    "    return {\n",
    "        \"title\": {\"text\": title},\n",
    "        \"xAxis\": {\n",
    "            \"categories\": [\n",
    "            \"一月\",\n",
    "            \"二月\",\n",
    "            \"三月\",\n",
    "            \"四月\",\n",
    "            \"五月\",\n",
    "            \"六月\",\n",
    "            \"七月\",\n",
    "            \"八月\",\n",
    "            \"九月\",\n",
    "            \"十月\",\n",
    "            \"十一月\",\n",
    "            \"十二月\",\n",
    "            ]\n",
    "        },\n",
    "        \"series\": [\n",
    "            {\n",
    "                \"data\": [\n",
    "                    29.9,\n",
    "                    71.5,\n",
    "                    106.4,\n",
    "                    129.2,\n",
    "                    144.0,\n",
    "                    176.0,\n",
    "                    135.6,\n",
    "                    148.5,\n",
    "                    216.4,\n",
    "                    194.1,\n",
    "                    95.6,\n",
    "                    54.4,\n",
    "                ]\n",
    "            }\n",
    "        ],\n",
    "    }"
   ]
  },
  {
   "cell_type": "code",
   "execution_count": null,
   "id": "passive-phrase",
   "metadata": {},
   "outputs": [],
   "source": [
    "configuration = get_configuration(\"Dark Unika\")\n",
    "\n",
    "ph.HighChart(object=configuration, sizing_mode=\"stretch_both\", height=500).servable()"
   ]
  },
  {
   "cell_type": "markdown",
   "id": "dying-football",
   "metadata": {},
   "source": [
    "## Themes\n",
    "\n",
    "You can see the available themes in the docstring below.\n",
    "\n",
    "If you are using the Fast templates the `auto` theme is a great option as it will automatically applay a default (light) or dark theme."
   ]
  },
  {
   "cell_type": "code",
   "execution_count": null,
   "id": "received-donor",
   "metadata": {},
   "outputs": [],
   "source": [
    "?ph.config.theme"
   ]
  },
  {
   "cell_type": "markdown",
   "id": "superb-essay",
   "metadata": {},
   "source": [
    "## Style the Panel Template\n",
    "\n",
    "Lets update the header and colors"
   ]
  },
  {
   "cell_type": "code",
   "execution_count": null,
   "id": "about-flesh",
   "metadata": {},
   "outputs": [],
   "source": [
    "ACCENT = \"#2b908f\"\n",
    "pn.state.template.param.update(site=\"Panel-HighCharts\", site_url=\"./\", title=\"Themes\", accent_base_color=ACCENT, header_background=ACCENT)\n"
   ]
  }
 ],
 "metadata": {
  "kernelspec": {
   "display_name": "Python 3",
   "language": "python",
   "name": "python3"
  },
  "language_info": {
   "codemirror_mode": {
    "name": "ipython",
    "version": 3
   },
   "file_extension": ".py",
   "mimetype": "text/x-python",
   "name": "python",
   "nbconvert_exporter": "python",
   "pygments_lexer": "ipython3",
   "version": "3.8.4"
  }
 },
 "nbformat": 4,
 "nbformat_minor": 5
}
