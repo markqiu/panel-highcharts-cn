{
 "cells": [
  {
   "cell_type": "markdown",
   "id": "extensive-oklahoma",
   "metadata": {
    "pycharm": {
     "name": "#%% md\n"
    }
   },
   "source": [
    "![Panel HighCharts Logo](https://raw.githubusercontent.com/MarcSkovMadsen/panel-highcharts/main/assets/images/panel-highcharts-logo.png)\n",
    "\n",
    "# 📈 Panel HighChart Network Graph Example\n",
    "\n",
    "The [Panel](https://panel.holoviz.org) `HighChart` pane allows you to use the powerful [HighCharts](https://www.highcharts.com/) [Chart](https://www.highcharts.com/blog/products/highcharts/) from within the comfort of Python 🐍 and Panel ❤️.\n",
    "\n",
    "For an introduction checkout the [HighChart Reference Guide](HighChart.ipynb)\n",
    "\n",
    "This example demoes how to use Panel and Highcharts [networkgraph](https://www.highcharts.com/blog/tutorials/network-graph/) to an interactive tool based on `mouseOver` and `mouseOut` events."
   ]
  },
  {
   "cell_type": "code",
   "execution_count": null,
   "id": "unsigned-pregnancy",
   "metadata": {
    "pycharm": {
     "name": "#%%\n"
    }
   },
   "outputs": [],
   "source": [
    "import panel_highcharts as ph\n",
    "\n",
    "ph.config.theme(\"auto\")\n",
    "ph.config.js_files(highcharts_networkgraph=True)\n",
    "\n",
    "import panel as pn\n",
    "pn.extension('highchart', sizing_mode=\"stretch_width\")"
   ]
  },
  {
   "cell_type": "code",
   "execution_count": null,
   "id": "arbitrary-gnome",
   "metadata": {
    "pycharm": {
     "name": "#%%\n"
    }
   },
   "outputs": [],
   "source": [
    "config = {\n",
    "    \"chart\": {\n",
    "        \"type\": 'networkgraph',\n",
    "        \"plotBorderWidth\": 1,\n",
    "    },\n",
    "    \"title\": {\n",
    "        \"text\": 'Panel HighChart - 网络图例子'\n",
    "    },\n",
    "    \"plotOptions\": {\n",
    "        \"networkgraph\": {\n",
    "            \"keys\": ['from', 'to']\n",
    "        }\n",
    "    },\n",
    "    \"series\": [{\n",
    "        \"layoutAlgorithm\": {\n",
    "            \"enableSimulation\": True,\n",
    "            \"linkLength\": 100,\n",
    "            \"initialPositions\": \"\"\"function () {\n",
    "                var chart = this.series[0].chart,\n",
    "                    width = chart.plotWidth,\n",
    "                    height = chart.plotHeight;\n",
    "\n",
    "                this.nodes.forEach(function (node) {\n",
    "                    // If initial positions were set previously, use that\n",
    "                    // positions. Otherwise use random position:\n",
    "                    node.plotX = node.plotX === undefined ?\n",
    "                        Math.random() * width : node.plotX;\n",
    "                    node.plotY = node.plotY === undefined ?\n",
    "                        Math.random() * height : node.plotY;\n",
    "                });\n",
    "            }\"\"\"\n",
    "        },\n",
    "        \"name\": \"K8\",\n",
    "        \"data\": [\n",
    "            ['A', 'B'],\n",
    "            ['A', 'C'],\n",
    "            ['A', 'D'],\n",
    "            ['A', 'E'],\n",
    "            ['A', 'F'],\n",
    "            ['A', 'G'],\n",
    "\n",
    "            ['B', 'C'],\n",
    "            ['B', 'D'],\n",
    "            ['B', 'E'],\n",
    "            ['B', 'F'],\n",
    "            ['B', 'G'],\n",
    "\n",
    "            ['C', 'D'],\n",
    "            ['C', 'E'],\n",
    "            ['C', 'F'],\n",
    "            ['C', 'G'],\n",
    "\n",
    "            ['D', 'E'],\n",
    "            ['D', 'F'],\n",
    "            ['D', 'G'],\n",
    "\n",
    "            ['E', 'F'],\n",
    "            ['E', 'G'],\n",
    "\n",
    "            ['F', 'G']\n",
    "        ],\n",
    "        \"point\": {\n",
    "            \"events\": {\n",
    "                \"mouseOver\": \"@\",\n",
    "            }\n",
    "        },\n",
    "        \"events\": {\n",
    "            \"mouseOut\": \"@\",\n",
    "        }\n",
    "    }]\n",
    "}"
   ]
  },
  {
   "cell_type": "code",
   "execution_count": null,
   "id": "automatic-murray",
   "metadata": {
    "pycharm": {
     "name": "#%%\n"
    }
   },
   "outputs": [],
   "source": [
    "wiki = {\n",
    "    \"A\": \"**A**, or a, 是现代英语字母表和ISO基本拉丁字母表的第一个字母和第一个元音字母。它的英文名字是a（读音/ˈeɪ/），复数aes。它的形状类似于它的来源古希腊字母 alpha。大写版本由三角形的两个斜边组成，中间有一个水平条交叉。小写版本可以写成两种形式：双层a和单层ɑ。后者常用于手写和基于它的字体，尤其是儿童阅读的字体，也有斜体字。\",\n",
    "    \"B\": \"**B**, or b, 是拉丁字母表的第二个字母。它的英文名字是bee（读音/ˈbiː/），复数的bees。它代表许多语言（包括英语）的浊双唇塞音。在其他一些语言中，它用于表示其他双唇辅音。\",\n",
    "    \"C\": \"**C**, or c, 是英语和 ISO 基本拉丁字母表中的第三个字母。它的英文名字是cee（读音/ˈsiː/），复数cees。\",\n",
    "    \"D\": \"**D**, or d, 是现代英语字母表和 ISO 基本拉丁字母表的第四个字母。它的英文名字是dee（读音/ˈdiː/），复数dees。\",\n",
    "    \"E\": \"**E**, or e, 是现代英语字母表和 ISO 基本拉丁字母表中的第五个字母和第二个元音字母。它的英文名字是e（读音/ˈiː/），复数ee。它是许多语言中最常用的字母，包括捷克语、丹麦语、荷兰语、英语、法语、德语、匈牙利语、拉丁语、拉脱维亚语、挪威语、西班牙语和瑞典语\",\n",
    "    \"F\": \"**F**, or f, 是现代英语字母表和 ISO 基本拉丁字母表中的第六个字母。它的英文名字是ef（读音/ˈɛf/），复数efs。\",\n",
    "    \"G\": \"**G**, or g, 是 ISO 基本拉丁字母的第七个字母。它的英文名字是gee（读音/ˈdʒiː/），复数gees。\",\n",
    "\n",
    "}"
   ]
  },
  {
   "cell_type": "code",
   "execution_count": null,
   "id": "coral-wings",
   "metadata": {
    "tags": [],
    "pycharm": {
     "name": "#%%\n"
    }
   },
   "outputs": [],
   "source": [
    "MESSAGE = \"**把鼠标移到某个节点**看看有什么发生\"\n",
    "\n",
    "chart = ph.HighChart(object=config, sizing_mode=\"stretch_both\", min_height=400)\n",
    "info = pn.pane.Markdown(MESSAGE, min_height=100)"
   ]
  },
  {
   "cell_type": "code",
   "execution_count": null,
   "id": "supported-export",
   "metadata": {
    "pycharm": {
     "name": "#%%\n"
    }
   },
   "outputs": [],
   "source": [
    "@pn.depends(event=chart.param.event, watch=True)\n",
    "def update_info(event):\n",
    "    if event[\"type\"]==\"mouseOver\":\n",
    "        info.object = wiki.get(event[\"target\"][\"name\"])\n",
    "    else:\n",
    "        info.object = MESSAGE"
   ]
  },
  {
   "cell_type": "code",
   "execution_count": null,
   "id": "above-joyce",
   "metadata": {
    "pycharm": {
     "name": "#%%\n"
    }
   },
   "outputs": [],
   "source": [
    "component = pn.Column(chart, info, sizing_mode=\"stretch_both\")\n",
    "component"
   ]
  },
  {
   "cell_type": "markdown",
   "id": "defined-pressure",
   "metadata": {
    "pycharm": {
     "name": "#%% md\n"
    }
   },
   "source": [
    "Let's also watch the events to understand what is going on :-)"
   ]
  },
  {
   "cell_type": "code",
   "execution_count": null,
   "id": "formal-leone",
   "metadata": {
    "pycharm": {
     "name": "#%%\n"
    }
   },
   "outputs": [],
   "source": [
    "pn.Row(chart.param.event)"
   ]
  },
  {
   "cell_type": "markdown",
   "id": "surgical-scheduling",
   "metadata": {
    "pycharm": {
     "name": "#%% md\n"
    }
   },
   "source": [
    "Let wrap it up in a nice template"
   ]
  },
  {
   "cell_type": "markdown",
   "id": "constant-phrase",
   "metadata": {
    "pycharm": {
     "name": "#%% md\n"
    }
   },
   "source": [
    "# App\n",
    "\n",
    "Let's wrap it up as an app in a nice template."
   ]
  },
  {
   "cell_type": "code",
   "execution_count": null,
   "id": "precious-redhead",
   "metadata": {
    "pycharm": {
     "name": "#%%\n"
    }
   },
   "outputs": [],
   "source": [
    "app = pn.template.FastListTemplate(\n",
    "    site=\"Panel HighChart\", site_url=\"./\",\n",
    "    title=\"网络图例子\",\n",
    "    main=[component]\n",
    ").servable()"
   ]
  },
  {
   "cell_type": "markdown",
   "id": "documented-wallet",
   "metadata": {
    "pycharm": {
     "name": "#%% md\n"
    }
   },
   "source": [
    "Serve the app with `panel serve Network.ipynb` and explore it at http://localhost:5006/Network.\n",
    "\n",
    "Add the `--autoreload` flag to get *hot reloading* when you save the notebook.\n",
    "\n",
    "![Network Graph Example](https://raw.githubusercontent.com/MarcSkovMadsen/panel-highcharts/main/assets/images/NetworkApp.gif)"
   ]
  },
  {
   "cell_type": "code",
   "execution_count": null,
   "id": "answering-neighborhood",
   "metadata": {
    "pycharm": {
     "name": "#%%\n"
    }
   },
   "outputs": [],
   "source": []
  }
 ],
 "metadata": {
  "kernelspec": {
   "display_name": "Python 3",
   "language": "python",
   "name": "python3"
  },
  "language_info": {
   "codemirror_mode": {
    "name": "ipython",
    "version": 3
   },
   "file_extension": ".py",
   "mimetype": "text/x-python",
   "name": "python",
   "nbconvert_exporter": "python",
   "pygments_lexer": "ipython3",
   "version": "3.8.4"
  }
 },
 "nbformat": 4,
 "nbformat_minor": 5
}