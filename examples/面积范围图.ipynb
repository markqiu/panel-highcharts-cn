{
 "cells": [
  {
   "cell_type": "code",
   "execution_count": null,
   "metadata": {
    "pycharm": {
     "name": "#%%\n"
    }
   },
   "outputs": [],
   "source": [
    "import panel_highcharts as ph\n",
    "\n",
    "ph.config.theme(\"auto\")"
   ]
  },
  {
   "cell_type": "code",
   "execution_count": null,
   "metadata": {
    "pycharm": {
     "name": "#%%\n"
    }
   },
   "outputs": [],
   "source": [
    "import panel as pn\n",
    "\n",
    "ph.config.js_files(highcharts_more=True)\n",
    "\n",
    "pn.extension('highchart')"
   ]
  },
  {
   "cell_type": "code",
   "execution_count": null,
   "metadata": {
    "pycharm": {
     "name": "#%%\n"
    }
   },
   "outputs": [],
   "source": [
    "import urllib, requests\n",
    "from pyjson5 import decode\n",
    "\n",
    "system_proxies = urllib.request.getproxies()\n",
    "\n",
    "url = \"https://data.jianshukeji.com/json/range.json\"\n",
    "if system_proxies and 'http' in system_proxies:\n",
    "\tdata = requests.get(url, proxies={\"https\": system_proxies['http']})\n",
    "else:\n",
    "\tdata = requests.get(url)\n",
    "data =  decode(data.text)\n",
    "data"
   ]
  },
  {
   "cell_type": "code",
   "execution_count": null,
   "metadata": {
    "pycharm": {
     "name": "#%%\n"
    }
   },
   "outputs": [],
   "source": [
    "configuration =  {\n",
    "\t\t\"chart\": {\n",
    "\t\t\t\"type\": 'arearange'\n",
    "\t\t},\n",
    "\t\t\"rangeSelector\": {\n",
    "\t\t\t\"selected\": 2\n",
    "\t\t},\n",
    "\t\t\"title\": {\n",
    "\t\t\t\"text\": 'Temperature variation by day'\n",
    "\t\t},\n",
    "\t\t\"tooltip\": {\n",
    "\t\t\t\"valueSuffix\": '°C'\n",
    "\t\t},\n",
    "\t\t\"series\": [{\n",
    "\t\t\t\"name\": 'Temperatures',\n",
    "\t\t\t\"data\": data\n",
    "\t\t}]\n",
    "}\n",
    "configuration"
   ]
  },
  {
   "cell_type": "code",
   "execution_count": null,
   "metadata": {
    "pycharm": {
     "name": "#%%\n"
    }
   },
   "outputs": [],
   "source": [
    "chart = ph.HighStock(object=configuration, sizing_mode=\"stretch_both\", min_height=600)\n",
    "chart"
   ]
  },
  {
   "cell_type": "code",
   "execution_count": null,
   "metadata": {
    "pycharm": {
     "name": "#%%\n"
    }
   },
   "outputs": [],
   "source": []
  }
 ],
 "metadata": {
  "kernelspec": {
   "display_name": "Python 3",
   "language": "python",
   "name": "python3"
  },
  "language_info": {
   "codemirror_mode": {
    "name": "ipython",
    "version": 2
   },
   "file_extension": ".py",
   "mimetype": "text/x-python",
   "name": "python",
   "nbconvert_exporter": "python",
   "pygments_lexer": "ipython2",
   "version": "2.7.6"
  }
 },
 "nbformat": 4,
 "nbformat_minor": 0
}
